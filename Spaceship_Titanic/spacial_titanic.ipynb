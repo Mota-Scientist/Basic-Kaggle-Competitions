{
 "cells": [
  {
   "attachments": {},
   "cell_type": "markdown",
   "metadata": {},
   "source": [
    "### Labels\n",
    "\n",
    "- PassengerId - A unique Id for each passenger. Each Id takes the form gggg_pp where gggg indicates a group the passenger is travelling with and pp is their number within the group. People in a group are often family members, but not always.\n",
    "\n",
    "- HomePlanet - The planet the passenger departed from, typically their planet of permanent residence.\n",
    "CryoSleep - Indicates whether the passenger elected to be put into suspended animation for the duration of the voyage. Passengers in cryosleep are confined to their cabins.\n",
    "\n",
    "- Cabin - The cabin number where the passenger is staying. Takes the form deck/num/side, where side can be either P for Port or S for Starboard.\n",
    "\n",
    "- Destination - The planet the passenger will be debarking to.\n",
    "\n",
    "- Age - The age of the passenger.\n",
    "\n",
    "- VIP - Whether the passenger has paid for special VIP service during the voyage.\n",
    "\n",
    "- RoomService, FoodCourt, ShoppingMall, Spa, VRDeck - Amount the passenger has billed at each of the Spaceship Titanic's many luxury amenities.\n",
    "\n",
    "- Name - The first and last names of the passenger.\n",
    "\n",
    "- Transported - Whether the passenger was transported to another dimension. This is the target, the column you are trying to predict."
   ]
  },
  {
   "attachments": {},
   "cell_type": "markdown",
   "metadata": {},
   "source": [
    "### Importing principal libraries\n"
   ]
  },
  {
   "cell_type": "code",
   "execution_count": 115,
   "metadata": {},
   "outputs": [],
   "source": [
    "import pandas as pd\n",
    "import numpy as np\n",
    "import matplotlib.pyplot as plt"
   ]
  },
  {
   "attachments": {},
   "cell_type": "markdown",
   "metadata": {},
   "source": [
    "### Importing Data"
   ]
  },
  {
   "cell_type": "code",
   "execution_count": 116,
   "metadata": {},
   "outputs": [],
   "source": [
    "train = pd.read_csv('train.csv')\n",
    "test = pd.read_csv('test.csv')\n",
    "index_test = test['PassengerId']"
   ]
  },
  {
   "attachments": {},
   "cell_type": "markdown",
   "metadata": {},
   "source": [
    "### 1- Checking the datasets"
   ]
  },
  {
   "attachments": {},
   "cell_type": "markdown",
   "metadata": {},
   "source": [
    "#### 1.1 - Missing Data"
   ]
  },
  {
   "cell_type": "code",
   "execution_count": 117,
   "metadata": {},
   "outputs": [
    {
     "data": {
      "text/plain": [
       "PassengerId     0.000000\n",
       "HomePlanet      2.034136\n",
       "CryoSleep       2.174421\n",
       "Cabin           2.338087\n",
       "Destination     2.151040\n",
       "Age             2.127660\n",
       "VIP             2.174421\n",
       "RoomService     1.917232\n",
       "FoodCourt       2.478373\n",
       "ShoppingMall    2.291326\n",
       "Spa             2.361468\n",
       "VRDeck          1.870470\n",
       "Name            2.197802\n",
       "dtype: float64"
      ]
     },
     "execution_count": 117,
     "metadata": {},
     "output_type": "execute_result"
    }
   ],
   "source": [
    "# Test\n",
    "test.isnull().sum()/len(test['Destination'])*100"
   ]
  },
  {
   "cell_type": "code",
   "execution_count": 118,
   "metadata": {},
   "outputs": [
    {
     "data": {
      "text/plain": [
       "PassengerId     0.000000\n",
       "HomePlanet      2.312205\n",
       "CryoSleep       2.496261\n",
       "Cabin           2.289198\n",
       "Destination     2.093639\n",
       "Age             2.059128\n",
       "VIP             2.335212\n",
       "RoomService     2.082135\n",
       "FoodCourt       2.105142\n",
       "ShoppingMall    2.392730\n",
       "Spa             2.105142\n",
       "VRDeck          2.162660\n",
       "Name            2.300702\n",
       "Transported     0.000000\n",
       "dtype: float64"
      ]
     },
     "execution_count": 118,
     "metadata": {},
     "output_type": "execute_result"
    }
   ],
   "source": [
    "# Train\n",
    "train.isnull().sum()/len(train['Destination'])*100"
   ]
  },
  {
   "cell_type": "markdown",
   "metadata": {},
   "source": [
    "#### 1.2 - Data Types\n"
   ]
  },
  {
   "cell_type": "code",
   "execution_count": 119,
   "metadata": {},
   "outputs": [
    {
     "data": {
      "text/plain": [
       "PassengerId      object\n",
       "HomePlanet       object\n",
       "CryoSleep        object\n",
       "Cabin            object\n",
       "Destination      object\n",
       "Age             float64\n",
       "VIP              object\n",
       "RoomService     float64\n",
       "FoodCourt       float64\n",
       "ShoppingMall    float64\n",
       "Spa             float64\n",
       "VRDeck          float64\n",
       "Name             object\n",
       "dtype: object"
      ]
     },
     "execution_count": 119,
     "metadata": {},
     "output_type": "execute_result"
    }
   ],
   "source": [
    "# Test\n",
    "test.dtypes"
   ]
  },
  {
   "cell_type": "code",
   "execution_count": 120,
   "metadata": {},
   "outputs": [
    {
     "data": {
      "text/plain": [
       "PassengerId      object\n",
       "HomePlanet       object\n",
       "CryoSleep        object\n",
       "Cabin            object\n",
       "Destination      object\n",
       "Age             float64\n",
       "VIP              object\n",
       "RoomService     float64\n",
       "FoodCourt       float64\n",
       "ShoppingMall    float64\n",
       "Spa             float64\n",
       "VRDeck          float64\n",
       "Name             object\n",
       "Transported        bool\n",
       "dtype: object"
      ]
     },
     "execution_count": 120,
     "metadata": {},
     "output_type": "execute_result"
    }
   ],
   "source": [
    "# Train\n",
    "train.dtypes"
   ]
  },
  {
   "attachments": {},
   "cell_type": "markdown",
   "metadata": {},
   "source": [
    "#### 1.3 - Deleting the variables we won't use in this case"
   ]
  },
  {
   "cell_type": "code",
   "execution_count": 121,
   "metadata": {},
   "outputs": [],
   "source": [
    "train.drop(['PassengerId','Name','Cabin'],axis = 1,inplace = True)\n",
    "test.drop(['PassengerId','Name','Cabin'],axis = 1,inplace = True)"
   ]
  },
  {
   "attachments": {},
   "cell_type": "markdown",
   "metadata": {},
   "source": [
    "### 2 - Missing Data Analysis ( Understanding the Problem )"
   ]
  },
  {
   "attachments": {},
   "cell_type": "markdown",
   "metadata": {},
   "source": [
    "#### 2.1 - Is there social inequality between the planets?\n"
   ]
  },
  {
   "cell_type": "code",
   "execution_count": 122,
   "metadata": {},
   "outputs": [
    {
     "name": "stdout",
     "output_type": "stream",
     "text": [
      "\n",
      "Planet With More VIP\n",
      "\n",
      "Europa    131\n",
      "Mars       63\n",
      "Name: HomePlanet, dtype: int64\n",
      "\n",
      "\n",
      "Total Planets\n",
      "\n",
      "Earth     4602\n",
      "Europa    2131\n",
      "Mars      1759\n",
      "Name: HomePlanet, dtype: int64\n"
     ]
    }
   ],
   "source": [
    "# Lets separate one measure of richness to analyze, the chosen one will be VIP\n",
    "\n",
    "vip_true = train[train['VIP'] == True]\n",
    "\n",
    "print('\\nPlanet With More VIP\\n')\n",
    "print(vip_true['HomePlanet'].value_counts())\n",
    "print('\\n')\n",
    "print('Total Planets\\n')\n",
    "print(train['HomePlanet'].value_counts())"
   ]
  },
  {
   "cell_type": "markdown",
   "metadata": {},
   "source": [
    "##### The answer is YES, so let's replace the missing data using this information.\n"
   ]
  },
  {
   "cell_type": "code",
   "execution_count": 123,
   "metadata": {},
   "outputs": [],
   "source": [
    "# Earth = 0\n",
    "# Europa = 1\n",
    "# Mars = 2\n",
    "\n",
    "train['HomePlanet'].fillna(train['VIP'],inplace = True)\n",
    "test['HomePlanet'].fillna(test['VIP'],inplace = True)"
   ]
  },
  {
   "cell_type": "code",
   "execution_count": 124,
   "metadata": {},
   "outputs": [
    {
     "data": {
      "text/plain": [
       "Earth     4602\n",
       "Europa    2131\n",
       "Mars      1759\n",
       "False      193\n",
       "True         5\n",
       "Name: HomePlanet, dtype: int64"
      ]
     },
     "execution_count": 124,
     "metadata": {},
     "output_type": "execute_result"
    }
   ],
   "source": [
    "train['HomePlanet'].value_counts()"
   ]
  },
  {
   "cell_type": "code",
   "execution_count": 125,
   "metadata": {},
   "outputs": [],
   "source": [
    "def transform_data(value):\n",
    "        if value == 'Earth':\n",
    "            return 0\n",
    "        elif value == 'Europa':\n",
    "            return 1\n",
    "        elif value == 'Mars':\n",
    "            return 2\n",
    "        elif value == True:\n",
    "            return 1\n",
    "        elif value == False:\n",
    "            return 0\n",
    "        else:\n",
    "            return 0"
   ]
  },
  {
   "cell_type": "code",
   "execution_count": 126,
   "metadata": {},
   "outputs": [],
   "source": [
    "train['HomePlanet'] = train['HomePlanet'].map(transform_data)\n",
    "test['HomePlanet'] = test['HomePlanet'].map(transform_data)"
   ]
  },
  {
   "cell_type": "code",
   "execution_count": 127,
   "metadata": {},
   "outputs": [
    {
     "data": {
      "text/plain": [
       "0    4798\n",
       "1    2136\n",
       "2    1759\n",
       "Name: HomePlanet, dtype: int64"
      ]
     },
     "execution_count": 127,
     "metadata": {},
     "output_type": "execute_result"
    }
   ],
   "source": [
    "train['HomePlanet'].value_counts()"
   ]
  },
  {
   "cell_type": "code",
   "execution_count": 128,
   "metadata": {},
   "outputs": [],
   "source": [
    "# false = 0\n",
    "# true = 1\n",
    "\n",
    "train['VIP'].fillna(train['HomePlanet'],inplace = True)\n",
    "test['VIP'].fillna(test['HomePlanet'],inplace = True)"
   ]
  },
  {
   "cell_type": "code",
   "execution_count": 129,
   "metadata": {},
   "outputs": [
    {
     "data": {
      "text/plain": [
       "False    8409\n",
       "True      241\n",
       "2          43\n",
       "Name: VIP, dtype: int64"
      ]
     },
     "execution_count": 129,
     "metadata": {},
     "output_type": "execute_result"
    }
   ],
   "source": [
    "train['VIP'].value_counts()"
   ]
  },
  {
   "cell_type": "code",
   "execution_count": 130,
   "metadata": {},
   "outputs": [],
   "source": [
    "def transform_data_2(value):\n",
    "        if value == False:\n",
    "            return 0\n",
    "        elif value == True:\n",
    "            return 1\n",
    "        else:\n",
    "            return 1"
   ]
  },
  {
   "cell_type": "code",
   "execution_count": 131,
   "metadata": {},
   "outputs": [],
   "source": [
    "train['VIP'] = train['VIP'].map(transform_data_2)\n",
    "test['VIP'] = test['VIP'].map(transform_data_2)"
   ]
  },
  {
   "cell_type": "code",
   "execution_count": 132,
   "metadata": {},
   "outputs": [
    {
     "data": {
      "text/plain": [
       "0    8409\n",
       "1     284\n",
       "Name: VIP, dtype: int64"
      ]
     },
     "execution_count": 132,
     "metadata": {},
     "output_type": "execute_result"
    }
   ],
   "source": [
    "train['VIP'].value_counts()"
   ]
  },
  {
   "cell_type": "code",
   "execution_count": 133,
   "metadata": {},
   "outputs": [
    {
     "data": {
      "text/plain": [
       "False    3128\n",
       "True     2787\n",
       "Name: Transported, dtype: int64"
      ]
     },
     "execution_count": 133,
     "metadata": {},
     "output_type": "execute_result"
    }
   ],
   "source": [
    "trapp = train[train['Destination'] == 'TRAPPIST-1e']\n",
    "trapp['Transported'].value_counts()"
   ]
  },
  {
   "cell_type": "code",
   "execution_count": 134,
   "metadata": {},
   "outputs": [
    {
     "data": {
      "text/plain": [
       "True     401\n",
       "False    395\n",
       "Name: Transported, dtype: int64"
      ]
     },
     "execution_count": 134,
     "metadata": {},
     "output_type": "execute_result"
    }
   ],
   "source": [
    "pso = train[train['Destination'] == 'PSO J318.5-22']\n",
    "pso['Transported'].value_counts()"
   ]
  },
  {
   "cell_type": "code",
   "execution_count": 135,
   "metadata": {},
   "outputs": [
    {
     "data": {
      "text/plain": [
       "True     1098\n",
       "False     702\n",
       "Name: Transported, dtype: int64"
      ]
     },
     "execution_count": 135,
     "metadata": {},
     "output_type": "execute_result"
    }
   ],
   "source": [
    "cancri = train[train['Destination'] == '55 Cancri e']\n",
    "cancri['Transported'].value_counts()"
   ]
  },
  {
   "cell_type": "code",
   "execution_count": 136,
   "metadata": {},
   "outputs": [],
   "source": [
    "# TRAPPIST-1e = 0\n",
    "# 55 Cancri e = 1\n",
    "# PSO J318.5-22 = 2\n",
    "\n",
    "def transform_data_3(value):\n",
    "        if value == 'TRAPPIST-1e':\n",
    "            return 0\n",
    "        elif value == '55 Cancri e':\n",
    "            return 1\n",
    "        elif value == 'PSO J318.5-22':\n",
    "            return 2\n",
    "        else:\n",
    "            return 0\n",
    "        \n",
    "train['Destination'] = train['Destination'].map(transform_data_3)\n",
    "test['Destination'] = test['Destination'].map(transform_data_3)"
   ]
  },
  {
   "cell_type": "code",
   "execution_count": 137,
   "metadata": {},
   "outputs": [
    {
     "data": {
      "text/plain": [
       "0    6097\n",
       "1    1800\n",
       "2     796\n",
       "Name: Destination, dtype: int64"
      ]
     },
     "execution_count": 137,
     "metadata": {},
     "output_type": "execute_result"
    }
   ],
   "source": [
    "train['Destination'].value_counts()"
   ]
  },
  {
   "cell_type": "markdown",
   "metadata": {},
   "source": [
    "#### 2.2 - Who got in CryoSleep didn't make any activity unless sleep"
   ]
  },
  {
   "cell_type": "code",
   "execution_count": 138,
   "metadata": {},
   "outputs": [
    {
     "data": {
      "text/plain": [
       "False    5439\n",
       "True     3037\n",
       "Name: CryoSleep, dtype: int64"
      ]
     },
     "execution_count": 138,
     "metadata": {},
     "output_type": "execute_result"
    }
   ],
   "source": [
    "train['CryoSleep'].value_counts()"
   ]
  },
  {
   "cell_type": "code",
   "execution_count": 139,
   "metadata": {},
   "outputs": [],
   "source": [
    "train['CryoSleep'].fillna(False,inplace = True)\n",
    "test['CryoSleep'].fillna(False,inplace = True)"
   ]
  },
  {
   "cell_type": "code",
   "execution_count": 140,
   "metadata": {},
   "outputs": [
    {
     "data": {
      "text/plain": [
       "False    5656\n",
       "True     3037\n",
       "Name: CryoSleep, dtype: int64"
      ]
     },
     "execution_count": 140,
     "metadata": {},
     "output_type": "execute_result"
    }
   ],
   "source": [
    "train['CryoSleep'].value_counts()"
   ]
  },
  {
   "cell_type": "code",
   "execution_count": 141,
   "metadata": {},
   "outputs": [],
   "source": [
    "def transform_cryo(num):\n",
    "    if num == False:\n",
    "        return 0\n",
    "    else:\n",
    "        return 1\n",
    "train['CryoSleep'] = train['CryoSleep'].map(transform_cryo)\n",
    "test['CryoSleep'] = test['CryoSleep'].map(transform_cryo)"
   ]
  },
  {
   "cell_type": "code",
   "execution_count": 142,
   "metadata": {},
   "outputs": [
    {
     "data": {
      "image/png": "[encoded data removed]",
      "text/plain": [
       "<Figure size 2000x1000 with 1 Axes>"
      ]
     },
     "metadata": {},
     "output_type": "display_data"
    }
   ],
   "source": [
    "# Analysing The Quantity of outliers\n",
    "\n",
    "# Median = 0\n",
    "# Mode = 0\n",
    "\n",
    "plt.figure(figsize = (20,10))\n",
    "test.boxplot(column = ['RoomService','FoodCourt','ShoppingMall','Spa','VRDeck'])\n",
    "plt.show()"
   ]
  },
  {
   "cell_type": "code",
   "execution_count": 143,
   "metadata": {},
   "outputs": [],
   "source": [
    "train['RoomService'].fillna(train['CryoSleep'],inplace = True)\n",
    "test['RoomService'].fillna(test['CryoSleep'],inplace = True)\n",
    "\n",
    "train['FoodCourt'].fillna(train['CryoSleep'],inplace = True)\n",
    "test['FoodCourt'].fillna(test['CryoSleep'],inplace = True)\n",
    "\n",
    "train['ShoppingMall'].fillna(train['CryoSleep'],inplace = True)\n",
    "test['ShoppingMall'].fillna(test['CryoSleep'],inplace = True)\n",
    "\n",
    "train['Spa'].fillna(train['CryoSleep'],inplace = True)\n",
    "test['Spa'].fillna(test['CryoSleep'],inplace = True)\n",
    "\n",
    "train['VRDeck'].fillna(train['CryoSleep'],inplace = True)\n",
    "test['VRDeck'].fillna(test['CryoSleep'],inplace = True)"
   ]
  },
  {
   "cell_type": "markdown",
   "metadata": {},
   "source": [
    "#### 2.3 - The Age"
   ]
  },
  {
   "cell_type": "code",
   "execution_count": 144,
   "metadata": {},
   "outputs": [
    {
     "data": {
      "image/png": "[encoded data removed]",
      "text/plain": [
       "<Figure size 640x480 with 1 Axes>"
      ]
     },
     "metadata": {},
     "output_type": "display_data"
    }
   ],
   "source": [
    "train.boxplot(column = ['Age'])\n",
    "plt.show()"
   ]
  },
  {
   "cell_type": "code",
   "execution_count": 145,
   "metadata": {},
   "outputs": [],
   "source": [
    "age_median_train = train['Age'].median()\n",
    "age_median_test = test['Age'].median()\n",
    "\n",
    "train['Age'].fillna(age_median_train,inplace = True)\n",
    "test['Age'].fillna(age_median_test,inplace = True)"
   ]
  },
  {
   "cell_type": "code",
   "execution_count": 146,
   "metadata": {},
   "outputs": [],
   "source": [
    "# true = 1\n",
    "# false = 0\n",
    "\n",
    "def transform_output(num):\n",
    "    if num == True:\n",
    "        return 1\n",
    "    else:\n",
    "        return 0\n",
    "    \n",
    "train['Transported'] = train['Transported'].map(transform_output)"
   ]
  },
  {
   "cell_type": "code",
   "execution_count": 147,
   "metadata": {},
   "outputs": [
    {
     "data": {
      "text/html": [
       "<div>\n",
       "<style scoped>\n",
       "    .dataframe tbody tr th:only-of-type {\n",
       "        vertical-align: middle;\n",
       "    }\n",
       "\n",
       "    .dataframe tbody tr th {\n",
       "        vertical-align: top;\n",
       "    }\n",
       "\n",
       "    .dataframe thead th {\n",
       "        text-align: right;\n",
       "    }\n",
       "</style>\n",
       "<table border=\"1\" class=\"dataframe\">\n",
       "  <thead>\n",
       "    <tr style=\"text-align: right;\">\n",
       "      <th></th>\n",
       "      <th>HomePlanet</th>\n",
       "      <th>CryoSleep</th>\n",
       "      <th>Destination</th>\n",
       "      <th>Age</th>\n",
       "      <th>VIP</th>\n",
       "      <th>RoomService</th>\n",
       "      <th>FoodCourt</th>\n",
       "      <th>ShoppingMall</th>\n",
       "      <th>Spa</th>\n",
       "      <th>VRDeck</th>\n",
       "      <th>Transported</th>\n",
       "    </tr>\n",
       "  </thead>\n",
       "  <tbody>\n",
       "    <tr>\n",
       "      <th>0</th>\n",
       "      <td>1</td>\n",
       "      <td>0</td>\n",
       "      <td>0</td>\n",
       "      <td>39.0</td>\n",
       "      <td>0</td>\n",
       "      <td>0.0</td>\n",
       "      <td>0.0</td>\n",
       "      <td>0.0</td>\n",
       "      <td>0.0</td>\n",
       "      <td>0.0</td>\n",
       "      <td>0</td>\n",
       "    </tr>\n",
       "    <tr>\n",
       "      <th>1</th>\n",
       "      <td>0</td>\n",
       "      <td>0</td>\n",
       "      <td>0</td>\n",
       "      <td>24.0</td>\n",
       "      <td>0</td>\n",
       "      <td>109.0</td>\n",
       "      <td>9.0</td>\n",
       "      <td>25.0</td>\n",
       "      <td>549.0</td>\n",
       "      <td>44.0</td>\n",
       "      <td>1</td>\n",
       "    </tr>\n",
       "    <tr>\n",
       "      <th>2</th>\n",
       "      <td>1</td>\n",
       "      <td>0</td>\n",
       "      <td>0</td>\n",
       "      <td>58.0</td>\n",
       "      <td>1</td>\n",
       "      <td>43.0</td>\n",
       "      <td>3576.0</td>\n",
       "      <td>0.0</td>\n",
       "      <td>6715.0</td>\n",
       "      <td>49.0</td>\n",
       "      <td>0</td>\n",
       "    </tr>\n",
       "    <tr>\n",
       "      <th>3</th>\n",
       "      <td>1</td>\n",
       "      <td>0</td>\n",
       "      <td>0</td>\n",
       "      <td>33.0</td>\n",
       "      <td>0</td>\n",
       "      <td>0.0</td>\n",
       "      <td>1283.0</td>\n",
       "      <td>371.0</td>\n",
       "      <td>3329.0</td>\n",
       "      <td>193.0</td>\n",
       "      <td>0</td>\n",
       "    </tr>\n",
       "    <tr>\n",
       "      <th>4</th>\n",
       "      <td>0</td>\n",
       "      <td>0</td>\n",
       "      <td>0</td>\n",
       "      <td>16.0</td>\n",
       "      <td>0</td>\n",
       "      <td>303.0</td>\n",
       "      <td>70.0</td>\n",
       "      <td>151.0</td>\n",
       "      <td>565.0</td>\n",
       "      <td>2.0</td>\n",
       "      <td>1</td>\n",
       "    </tr>\n",
       "  </tbody>\n",
       "</table>\n",
       "</div>"
      ],
      "text/plain": [
       "   HomePlanet  CryoSleep  Destination   Age  VIP  RoomService  FoodCourt  \\\n",
       "0           1          0            0  39.0    0          0.0        0.0   \n",
       "1           0          0            0  24.0    0        109.0        9.0   \n",
       "2           1          0            0  58.0    1         43.0     3576.0   \n",
       "3           1          0            0  33.0    0          0.0     1283.0   \n",
       "4           0          0            0  16.0    0        303.0       70.0   \n",
       "\n",
       "   ShoppingMall     Spa  VRDeck  Transported  \n",
       "0           0.0     0.0     0.0            0  \n",
       "1          25.0   549.0    44.0            1  \n",
       "2           0.0  6715.0    49.0            0  \n",
       "3         371.0  3329.0   193.0            0  \n",
       "4         151.0   565.0     2.0            1  "
      ]
     },
     "execution_count": 147,
     "metadata": {},
     "output_type": "execute_result"
    }
   ],
   "source": [
    "train.head()"
   ]
  },
  {
   "cell_type": "markdown",
   "metadata": {},
   "source": [
    "### 3 - Overview"
   ]
  },
  {
   "cell_type": "markdown",
   "metadata": {},
   "source": [
    "#### 3.1 - Identifying problems of multicollinearity"
   ]
  },
  {
   "cell_type": "code",
   "execution_count": 148,
   "metadata": {},
   "outputs": [
    {
     "data": {
      "text/html": [
       "<div>\n",
       "<style scoped>\n",
       "    .dataframe tbody tr th:only-of-type {\n",
       "        vertical-align: middle;\n",
       "    }\n",
       "\n",
       "    .dataframe tbody tr th {\n",
       "        vertical-align: top;\n",
       "    }\n",
       "\n",
       "    .dataframe thead th {\n",
       "        text-align: right;\n",
       "    }\n",
       "</style>\n",
       "<table border=\"1\" class=\"dataframe\">\n",
       "  <thead>\n",
       "    <tr style=\"text-align: right;\">\n",
       "      <th></th>\n",
       "      <th>HomePlanet</th>\n",
       "      <th>CryoSleep</th>\n",
       "      <th>Destination</th>\n",
       "      <th>Age</th>\n",
       "      <th>VIP</th>\n",
       "      <th>RoomService</th>\n",
       "      <th>FoodCourt</th>\n",
       "      <th>ShoppingMall</th>\n",
       "      <th>Spa</th>\n",
       "      <th>VRDeck</th>\n",
       "      <th>Transported</th>\n",
       "    </tr>\n",
       "  </thead>\n",
       "  <tbody>\n",
       "    <tr>\n",
       "      <th>HomePlanet</th>\n",
       "      <td>1.000000</td>\n",
       "      <td>0.083371</td>\n",
       "      <td>-0.155681</td>\n",
       "      <td>0.134160</td>\n",
       "      <td>0.167086</td>\n",
       "      <td>0.212560</td>\n",
       "      <td>0.071530</td>\n",
       "      <td>0.101329</td>\n",
       "      <td>0.054861</td>\n",
       "      <td>0.039723</td>\n",
       "      <td>0.115327</td>\n",
       "    </tr>\n",
       "    <tr>\n",
       "      <th>CryoSleep</th>\n",
       "      <td>0.083371</td>\n",
       "      <td>1.000000</td>\n",
       "      <td>0.118972</td>\n",
       "      <td>-0.071323</td>\n",
       "      <td>-0.055944</td>\n",
       "      <td>-0.244074</td>\n",
       "      <td>-0.205921</td>\n",
       "      <td>-0.207774</td>\n",
       "      <td>-0.198298</td>\n",
       "      <td>-0.192713</td>\n",
       "      <td>0.460132</td>\n",
       "    </tr>\n",
       "    <tr>\n",
       "      <th>Destination</th>\n",
       "      <td>-0.155681</td>\n",
       "      <td>0.118972</td>\n",
       "      <td>1.000000</td>\n",
       "      <td>-0.014496</td>\n",
       "      <td>0.014144</td>\n",
       "      <td>-0.070953</td>\n",
       "      <td>0.026133</td>\n",
       "      <td>-0.036352</td>\n",
       "      <td>-0.000489</td>\n",
       "      <td>0.016113</td>\n",
       "      <td>0.067972</td>\n",
       "    </tr>\n",
       "    <tr>\n",
       "      <th>Age</th>\n",
       "      <td>0.134160</td>\n",
       "      <td>-0.071323</td>\n",
       "      <td>-0.014496</td>\n",
       "      <td>1.000000</td>\n",
       "      <td>0.093115</td>\n",
       "      <td>0.068626</td>\n",
       "      <td>0.127391</td>\n",
       "      <td>0.033147</td>\n",
       "      <td>0.120945</td>\n",
       "      <td>0.099589</td>\n",
       "      <td>-0.074233</td>\n",
       "    </tr>\n",
       "    <tr>\n",
       "      <th>VIP</th>\n",
       "      <td>0.167086</td>\n",
       "      <td>-0.055944</td>\n",
       "      <td>0.014144</td>\n",
       "      <td>0.093115</td>\n",
       "      <td>1.000000</td>\n",
       "      <td>0.070603</td>\n",
       "      <td>0.119614</td>\n",
       "      <td>0.006515</td>\n",
       "      <td>0.054203</td>\n",
       "      <td>0.113409</td>\n",
       "      <td>-0.015568</td>\n",
       "    </tr>\n",
       "    <tr>\n",
       "      <th>RoomService</th>\n",
       "      <td>0.212560</td>\n",
       "      <td>-0.244074</td>\n",
       "      <td>-0.070953</td>\n",
       "      <td>0.068626</td>\n",
       "      <td>0.070603</td>\n",
       "      <td>1.000000</td>\n",
       "      <td>-0.015131</td>\n",
       "      <td>0.052328</td>\n",
       "      <td>0.009239</td>\n",
       "      <td>-0.018629</td>\n",
       "      <td>-0.241118</td>\n",
       "    </tr>\n",
       "    <tr>\n",
       "      <th>FoodCourt</th>\n",
       "      <td>0.071530</td>\n",
       "      <td>-0.205921</td>\n",
       "      <td>0.026133</td>\n",
       "      <td>0.127391</td>\n",
       "      <td>0.119614</td>\n",
       "      <td>-0.015131</td>\n",
       "      <td>1.000000</td>\n",
       "      <td>-0.013723</td>\n",
       "      <td>0.221465</td>\n",
       "      <td>0.224569</td>\n",
       "      <td>0.045587</td>\n",
       "    </tr>\n",
       "    <tr>\n",
       "      <th>ShoppingMall</th>\n",
       "      <td>0.101329</td>\n",
       "      <td>-0.207774</td>\n",
       "      <td>-0.036352</td>\n",
       "      <td>0.033147</td>\n",
       "      <td>0.006515</td>\n",
       "      <td>0.052328</td>\n",
       "      <td>-0.013723</td>\n",
       "      <td>1.000000</td>\n",
       "      <td>0.014535</td>\n",
       "      <td>-0.007856</td>\n",
       "      <td>0.009403</td>\n",
       "    </tr>\n",
       "    <tr>\n",
       "      <th>Spa</th>\n",
       "      <td>0.054861</td>\n",
       "      <td>-0.198298</td>\n",
       "      <td>-0.000489</td>\n",
       "      <td>0.120945</td>\n",
       "      <td>0.054203</td>\n",
       "      <td>0.009239</td>\n",
       "      <td>0.221465</td>\n",
       "      <td>0.014535</td>\n",
       "      <td>1.000000</td>\n",
       "      <td>0.147655</td>\n",
       "      <td>-0.218541</td>\n",
       "    </tr>\n",
       "    <tr>\n",
       "      <th>VRDeck</th>\n",
       "      <td>0.039723</td>\n",
       "      <td>-0.192713</td>\n",
       "      <td>0.016113</td>\n",
       "      <td>0.099589</td>\n",
       "      <td>0.113409</td>\n",
       "      <td>-0.018629</td>\n",
       "      <td>0.224569</td>\n",
       "      <td>-0.007856</td>\n",
       "      <td>0.147655</td>\n",
       "      <td>1.000000</td>\n",
       "      <td>-0.204870</td>\n",
       "    </tr>\n",
       "    <tr>\n",
       "      <th>Transported</th>\n",
       "      <td>0.115327</td>\n",
       "      <td>0.460132</td>\n",
       "      <td>0.067972</td>\n",
       "      <td>-0.074233</td>\n",
       "      <td>-0.015568</td>\n",
       "      <td>-0.241118</td>\n",
       "      <td>0.045587</td>\n",
       "      <td>0.009403</td>\n",
       "      <td>-0.218541</td>\n",
       "      <td>-0.204870</td>\n",
       "      <td>1.000000</td>\n",
       "    </tr>\n",
       "  </tbody>\n",
       "</table>\n",
       "</div>"
      ],
      "text/plain": [
       "              HomePlanet  CryoSleep  Destination       Age       VIP  \\\n",
       "HomePlanet      1.000000   0.083371    -0.155681  0.134160  0.167086   \n",
       "CryoSleep       0.083371   1.000000     0.118972 -0.071323 -0.055944   \n",
       "Destination    -0.155681   0.118972     1.000000 -0.014496  0.014144   \n",
       "Age             0.134160  -0.071323    -0.014496  1.000000  0.093115   \n",
       "VIP             0.167086  -0.055944     0.014144  0.093115  1.000000   \n",
       "RoomService     0.212560  -0.244074    -0.070953  0.068626  0.070603   \n",
       "FoodCourt       0.071530  -0.205921     0.026133  0.127391  0.119614   \n",
       "ShoppingMall    0.101329  -0.207774    -0.036352  0.033147  0.006515   \n",
       "Spa             0.054861  -0.198298    -0.000489  0.120945  0.054203   \n",
       "VRDeck          0.039723  -0.192713     0.016113  0.099589  0.113409   \n",
       "Transported     0.115327   0.460132     0.067972 -0.074233 -0.015568   \n",
       "\n",
       "              RoomService  FoodCourt  ShoppingMall       Spa    VRDeck  \\\n",
       "HomePlanet       0.212560   0.071530      0.101329  0.054861  0.039723   \n",
       "CryoSleep       -0.244074  -0.205921     -0.207774 -0.198298 -0.192713   \n",
       "Destination     -0.070953   0.026133     -0.036352 -0.000489  0.016113   \n",
       "Age              0.068626   0.127391      0.033147  0.120945  0.099589   \n",
       "VIP              0.070603   0.119614      0.006515  0.054203  0.113409   \n",
       "RoomService      1.000000  -0.015131      0.052328  0.009239 -0.018629   \n",
       "FoodCourt       -0.015131   1.000000     -0.013723  0.221465  0.224569   \n",
       "ShoppingMall     0.052328  -0.013723      1.000000  0.014535 -0.007856   \n",
       "Spa              0.009239   0.221465      0.014535  1.000000  0.147655   \n",
       "VRDeck          -0.018629   0.224569     -0.007856  0.147655  1.000000   \n",
       "Transported     -0.241118   0.045587      0.009403 -0.218541 -0.204870   \n",
       "\n",
       "              Transported  \n",
       "HomePlanet       0.115327  \n",
       "CryoSleep        0.460132  \n",
       "Destination      0.067972  \n",
       "Age             -0.074233  \n",
       "VIP             -0.015568  \n",
       "RoomService     -0.241118  \n",
       "FoodCourt        0.045587  \n",
       "ShoppingMall     0.009403  \n",
       "Spa             -0.218541  \n",
       "VRDeck          -0.204870  \n",
       "Transported      1.000000  "
      ]
     },
     "execution_count": 148,
     "metadata": {},
     "output_type": "execute_result"
    }
   ],
   "source": [
    "# Pearson Correlation\n",
    "\n",
    "train.corr()"
   ]
  },
  {
   "cell_type": "code",
   "execution_count": 149,
   "metadata": {},
   "outputs": [
    {
     "name": "stdout",
     "output_type": "stream",
     "text": [
      "        feature       VIF\n",
      "0    HomePlanet  1.930272\n",
      "1     CryoSleep  1.768450\n",
      "2   Destination  1.358179\n",
      "3           Age  2.470801\n",
      "4           VIP  1.090715\n",
      "5   RoomService  1.252869\n",
      "6     FoodCourt  1.237218\n",
      "7  ShoppingMall  1.132620\n",
      "8           Spa  1.176196\n",
      "9        VRDeck  1.175327\n"
     ]
    }
   ],
   "source": [
    "# VIF\n",
    "\n",
    "from statsmodels.stats.outliers_influence import variance_inflation_factor\n",
    "\n",
    "# the independent variables set\n",
    "X = train[['HomePlanet', 'CryoSleep', 'Destination',\n",
    " 'Age','VIP','RoomService','FoodCourt','ShoppingMall','Spa','VRDeck']]\n",
    " \n",
    "# VIF dataframe\n",
    "vif_data = pd.DataFrame()\n",
    "vif_data[\"feature\"] = X.columns\n",
    " \n",
    "# Calculating VIF for each feature\n",
    "vif_data[\"VIF\"] = [variance_inflation_factor(X.values, i)\n",
    " for i in range(len(X.columns))]\n",
    " \n",
    "print(vif_data)"
   ]
  },
  {
   "cell_type": "markdown",
   "metadata": {},
   "source": [
    "#### 3.2 - Principals statistics informations"
   ]
  },
  {
   "cell_type": "code",
   "execution_count": 150,
   "metadata": {},
   "outputs": [
    {
     "data": {
      "text/html": [
       "<div>\n",
       "<style scoped>\n",
       "    .dataframe tbody tr th:only-of-type {\n",
       "        vertical-align: middle;\n",
       "    }\n",
       "\n",
       "    .dataframe tbody tr th {\n",
       "        vertical-align: top;\n",
       "    }\n",
       "\n",
       "    .dataframe thead th {\n",
       "        text-align: right;\n",
       "    }\n",
       "</style>\n",
       "<table border=\"1\" class=\"dataframe\">\n",
       "  <thead>\n",
       "    <tr style=\"text-align: right;\">\n",
       "      <th></th>\n",
       "      <th>HomePlanet</th>\n",
       "      <th>CryoSleep</th>\n",
       "      <th>Destination</th>\n",
       "      <th>Age</th>\n",
       "      <th>VIP</th>\n",
       "      <th>RoomService</th>\n",
       "      <th>FoodCourt</th>\n",
       "      <th>ShoppingMall</th>\n",
       "      <th>Spa</th>\n",
       "      <th>VRDeck</th>\n",
       "      <th>Transported</th>\n",
       "    </tr>\n",
       "  </thead>\n",
       "  <tbody>\n",
       "    <tr>\n",
       "      <th>count</th>\n",
       "      <td>8693.000000</td>\n",
       "      <td>8693.000000</td>\n",
       "      <td>8693.000000</td>\n",
       "      <td>8693.000000</td>\n",
       "      <td>8693.000000</td>\n",
       "      <td>8693.00000</td>\n",
       "      <td>8693.000000</td>\n",
       "      <td>8693.000000</td>\n",
       "      <td>8693.000000</td>\n",
       "      <td>8693.000000</td>\n",
       "      <td>8693.000000</td>\n",
       "    </tr>\n",
       "    <tr>\n",
       "      <th>mean</th>\n",
       "      <td>0.650408</td>\n",
       "      <td>0.349362</td>\n",
       "      <td>0.390199</td>\n",
       "      <td>28.790291</td>\n",
       "      <td>0.032670</td>\n",
       "      <td>220.01714</td>\n",
       "      <td>448.442080</td>\n",
       "      <td>169.583343</td>\n",
       "      <td>304.596342</td>\n",
       "      <td>298.268952</td>\n",
       "      <td>0.503624</td>\n",
       "    </tr>\n",
       "    <tr>\n",
       "      <th>std</th>\n",
       "      <td>0.795075</td>\n",
       "      <td>0.476796</td>\n",
       "      <td>0.648944</td>\n",
       "      <td>14.341404</td>\n",
       "      <td>0.177782</td>\n",
       "      <td>660.51645</td>\n",
       "      <td>1595.788366</td>\n",
       "      <td>598.004041</td>\n",
       "      <td>1125.560539</td>\n",
       "      <td>1134.124545</td>\n",
       "      <td>0.500016</td>\n",
       "    </tr>\n",
       "    <tr>\n",
       "      <th>min</th>\n",
       "      <td>0.000000</td>\n",
       "      <td>0.000000</td>\n",
       "      <td>0.000000</td>\n",
       "      <td>0.000000</td>\n",
       "      <td>0.000000</td>\n",
       "      <td>0.00000</td>\n",
       "      <td>0.000000</td>\n",
       "      <td>0.000000</td>\n",
       "      <td>0.000000</td>\n",
       "      <td>0.000000</td>\n",
       "      <td>0.000000</td>\n",
       "    </tr>\n",
       "    <tr>\n",
       "      <th>25%</th>\n",
       "      <td>0.000000</td>\n",
       "      <td>0.000000</td>\n",
       "      <td>0.000000</td>\n",
       "      <td>20.000000</td>\n",
       "      <td>0.000000</td>\n",
       "      <td>0.00000</td>\n",
       "      <td>0.000000</td>\n",
       "      <td>0.000000</td>\n",
       "      <td>0.000000</td>\n",
       "      <td>0.000000</td>\n",
       "      <td>0.000000</td>\n",
       "    </tr>\n",
       "    <tr>\n",
       "      <th>50%</th>\n",
       "      <td>0.000000</td>\n",
       "      <td>0.000000</td>\n",
       "      <td>0.000000</td>\n",
       "      <td>27.000000</td>\n",
       "      <td>0.000000</td>\n",
       "      <td>0.00000</td>\n",
       "      <td>0.000000</td>\n",
       "      <td>0.000000</td>\n",
       "      <td>0.000000</td>\n",
       "      <td>0.000000</td>\n",
       "      <td>1.000000</td>\n",
       "    </tr>\n",
       "    <tr>\n",
       "      <th>75%</th>\n",
       "      <td>1.000000</td>\n",
       "      <td>1.000000</td>\n",
       "      <td>1.000000</td>\n",
       "      <td>37.000000</td>\n",
       "      <td>0.000000</td>\n",
       "      <td>41.00000</td>\n",
       "      <td>61.000000</td>\n",
       "      <td>22.000000</td>\n",
       "      <td>53.000000</td>\n",
       "      <td>40.000000</td>\n",
       "      <td>1.000000</td>\n",
       "    </tr>\n",
       "    <tr>\n",
       "      <th>max</th>\n",
       "      <td>2.000000</td>\n",
       "      <td>1.000000</td>\n",
       "      <td>2.000000</td>\n",
       "      <td>79.000000</td>\n",
       "      <td>1.000000</td>\n",
       "      <td>14327.00000</td>\n",
       "      <td>29813.000000</td>\n",
       "      <td>23492.000000</td>\n",
       "      <td>22408.000000</td>\n",
       "      <td>24133.000000</td>\n",
       "      <td>1.000000</td>\n",
       "    </tr>\n",
       "  </tbody>\n",
       "</table>\n",
       "</div>"
      ],
      "text/plain": [
       "        HomePlanet    CryoSleep  Destination          Age          VIP  \\\n",
       "count  8693.000000  8693.000000  8693.000000  8693.000000  8693.000000   \n",
       "mean      0.650408     0.349362     0.390199    28.790291     0.032670   \n",
       "std       0.795075     0.476796     0.648944    14.341404     0.177782   \n",
       "min       0.000000     0.000000     0.000000     0.000000     0.000000   \n",
       "25%       0.000000     0.000000     0.000000    20.000000     0.000000   \n",
       "50%       0.000000     0.000000     0.000000    27.000000     0.000000   \n",
       "75%       1.000000     1.000000     1.000000    37.000000     0.000000   \n",
       "max       2.000000     1.000000     2.000000    79.000000     1.000000   \n",
       "\n",
       "       RoomService     FoodCourt  ShoppingMall           Spa        VRDeck  \\\n",
       "count   8693.00000   8693.000000   8693.000000   8693.000000   8693.000000   \n",
       "mean     220.01714    448.442080    169.583343    304.596342    298.268952   \n",
       "std      660.51645   1595.788366    598.004041   1125.560539   1134.124545   \n",
       "min        0.00000      0.000000      0.000000      0.000000      0.000000   \n",
       "25%        0.00000      0.000000      0.000000      0.000000      0.000000   \n",
       "50%        0.00000      0.000000      0.000000      0.000000      0.000000   \n",
       "75%       41.00000     61.000000     22.000000     53.000000     40.000000   \n",
       "max    14327.00000  29813.000000  23492.000000  22408.000000  24133.000000   \n",
       "\n",
       "       Transported  \n",
       "count  8693.000000  \n",
       "mean      0.503624  \n",
       "std       0.500016  \n",
       "min       0.000000  \n",
       "25%       0.000000  \n",
       "50%       1.000000  \n",
       "75%       1.000000  \n",
       "max       1.000000  "
      ]
     },
     "execution_count": 150,
     "metadata": {},
     "output_type": "execute_result"
    }
   ],
   "source": [
    "train.describe()"
   ]
  },
  {
   "cell_type": "markdown",
   "metadata": {},
   "source": [
    "### 4 - Creating the Machine Learning Model"
   ]
  },
  {
   "cell_type": "code",
   "execution_count": 151,
   "metadata": {},
   "outputs": [],
   "source": [
    "y = train['Transported']\n",
    "x = train.drop('Transported',axis = 1)"
   ]
  },
  {
   "cell_type": "code",
   "execution_count": 154,
   "metadata": {},
   "outputs": [],
   "source": [
    "from sklearn.ensemble import GradientBoostingClassifier,RandomForestClassifier,AdaBoostClassifier\n",
    "from sklearn.ensemble import BaggingClassifier\n",
    "from sklearn.model_selection import train_test_split"
   ]
  },
  {
   "attachments": {},
   "cell_type": "markdown",
   "metadata": {},
   "source": [
    "#### 4.1 -  Creating a function to analyse the best model"
   ]
  },
  {
   "cell_type": "code",
   "execution_count": 155,
   "metadata": {},
   "outputs": [],
   "source": [
    "def best_ML_norm(data):\n",
    "    \n",
    "    from sklearn.preprocessing import MinMaxScaler\n",
    "    norm = MinMaxScaler(feature_range = (0,1))\n",
    "    \n",
    "    \n",
    "    gb = GradientBoostingClassifier()\n",
    "    rf = RandomForestClassifier()\n",
    "    ab = AdaBoostClassifier()\n",
    "    \n",
    "    y = train['Transported']\n",
    "    x = train.drop('Transported',axis = 1)\n",
    "    x = norm.fit_transform(x)\n",
    "    \n",
    "    from sklearn.model_selection import cross_val_score\n",
    "    from sklearn.model_selection import StratifiedKFold\n",
    "    \n",
    "    skfold = StratifiedKFold(n_splits = 5)\n",
    "    \n",
    "    score_gb = cross_val_score(gb,x,y,cv = skfold,n_jobs = -1)\n",
    "    score_rf = cross_val_score(rf,x,y,cv = skfold,n_jobs = -1)\n",
    "    score_ab = cross_val_score(ab,x,y,cv = skfold,n_jobs = -1)\n",
    "    \n",
    "    print(f'Gradient Boosting Classifier:{round(score_gb.mean(),3)*100}')\n",
    "    print(f'Random Forest Classifier {round(score_rf.mean(),3)*100}')\n",
    "    print(f'Ada Boost Classifier {round(score_ab.mean(),3)*100}')"
   ]
  },
  {
   "attachments": {},
   "cell_type": "markdown",
   "metadata": {},
   "source": [
    "#### 4.2 - Analysing the best model"
   ]
  },
  {
   "cell_type": "code",
   "execution_count": 157,
   "metadata": {},
   "outputs": [
    {
     "name": "stdout",
     "output_type": "stream",
     "text": [
      "Gradient Boosting Classifier:79.2\n",
      "Random Forest Classifier 77.9\n",
      "Ada Boost Classifier 78.5\n"
     ]
    }
   ],
   "source": [
    "best_ML_norm(train)"
   ]
  },
  {
   "cell_type": "markdown",
   "metadata": {},
   "source": [
    "#### 4.3 - Creating the model"
   ]
  },
  {
   "cell_type": "code",
   "execution_count": 159,
   "metadata": {},
   "outputs": [
    {
     "name": "stdout",
     "output_type": "stream",
     "text": [
      "79.29844738355378\n"
     ]
    }
   ],
   "source": [
    "x_train,x_test,y_train,y_test = train_test_split(x,y,test_size = 0.20,random_state = 10)\n",
    "\n",
    "model = BaggingClassifier(n_estimators = 10,estimator = GradientBoostingClassifier(),n_jobs = -1)\n",
    "\n",
    "model.fit(x_train,y_train)\n",
    "print(model.score(x_test,y_test)*100)"
   ]
  },
  {
   "cell_type": "markdown",
   "metadata": {},
   "source": [
    "### 5 - Submission"
   ]
  },
  {
   "cell_type": "code",
   "execution_count": 160,
   "metadata": {},
   "outputs": [],
   "source": [
    "predict = model.predict(test)"
   ]
  },
  {
   "cell_type": "code",
   "execution_count": 161,
   "metadata": {},
   "outputs": [],
   "source": [
    "def transform_predict(num):\n",
    "    \n",
    "    if num == 0:\n",
    "        return False\n",
    "    else:\n",
    "        return True"
   ]
  },
  {
   "cell_type": "code",
   "execution_count": 162,
   "metadata": {},
   "outputs": [],
   "source": [
    "predict = list(predict)"
   ]
  },
  {
   "cell_type": "code",
   "execution_count": 163,
   "metadata": {},
   "outputs": [],
   "source": [
    "lista = []\n",
    "for i in predict:\n",
    "    lista.append(transform_predict(i))"
   ]
  },
  {
   "cell_type": "code",
   "execution_count": 164,
   "metadata": {},
   "outputs": [
    {
     "data": {
      "text/plain": [
       "(4277,)"
      ]
     },
     "execution_count": 164,
     "metadata": {},
     "output_type": "execute_result"
    }
   ],
   "source": [
    "sub = pd.Series(lista,index = index_test,name = 'Transported')\n",
    "sub.shape"
   ]
  },
  {
   "cell_type": "code",
   "execution_count": 165,
   "metadata": {},
   "outputs": [],
   "source": [
    "sub = pd.DataFrame(sub)"
   ]
  },
  {
   "cell_type": "code",
   "execution_count": 166,
   "metadata": {},
   "outputs": [],
   "source": [
    "sub.to_csv('first_model.csv',header = True)"
   ]
  }
 ],
 "metadata": {
  "kernelspec": {
   "display_name": "Python 3",
   "language": "python",
   "name": "python3"
  },
  "language_info": {
   "codemirror_mode": {
    "name": "ipython",
    "version": 3
   },
   "file_extension": ".py",
   "mimetype": "text/x-python",
   "name": "python",
   "nbconvert_exporter": "python",
   "pygments_lexer": "ipython3",
   "version": "3.10.4"
  },
  "orig_nbformat": 4,
  "vscode": {
   "interpreter": {
    "hash": "413350f7d0809f61a31878bd37442febae74ebb0eae6dd71f86416db25f7514a"
   }
  }
 },
 "nbformat": 4,
 "nbformat_minor": 2
}
